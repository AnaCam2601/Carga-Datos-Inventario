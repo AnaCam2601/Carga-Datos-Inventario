{
  "cells": [
    {
      "cell_type": "markdown",
      "metadata": {
        "id": "view-in-github",
        "colab_type": "text"
      },
      "source": [
        "<a href=\"https://colab.research.google.com/github/AnaCam2601/Carga-Datos-Inventario/blob/main/CARGA_AUTOMATICA_DE_DATOS.ipynb\" target=\"_parent\"><img src=\"https://colab.research.google.com/assets/colab-badge.svg\" alt=\"Open In Colab\"/></a>"
      ]
    },
    {
      "cell_type": "markdown",
      "source": [
        "# Carga los datos del sheets original para pegarlos en el sheets de busqueda rapida\n"
      ],
      "metadata": {
        "id": "uQDEmKc8XCaE"
      }
    },
    {
      "cell_type": "code",
      "source": [
        "# ✅ Instala las librerías necesarias para Google Sheets y manejo de Excel\n",
        "!pip install gspread pandas openpyxl gdown schedule\n"
      ],
      "metadata": {
        "id": "zLsh0-_XkqWV",
        "colab": {
          "base_uri": "https://localhost:8080/"
        },
        "outputId": "b1f1057e-ed99-4be3-bb57-d2e4d21ec63b"
      },
      "execution_count": 70,
      "outputs": [
        {
          "output_type": "stream",
          "name": "stdout",
          "text": [
            "Requirement already satisfied: gspread in /usr/local/lib/python3.11/dist-packages (6.2.0)\n",
            "Requirement already satisfied: pandas in /usr/local/lib/python3.11/dist-packages (2.2.2)\n",
            "Requirement already satisfied: openpyxl in /usr/local/lib/python3.11/dist-packages (3.1.5)\n",
            "Requirement already satisfied: gdown in /usr/local/lib/python3.11/dist-packages (5.2.0)\n",
            "Requirement already satisfied: schedule in /usr/local/lib/python3.11/dist-packages (1.2.2)\n",
            "Requirement already satisfied: google-auth>=1.12.0 in /usr/local/lib/python3.11/dist-packages (from gspread) (2.38.0)\n",
            "Requirement already satisfied: google-auth-oauthlib>=0.4.1 in /usr/local/lib/python3.11/dist-packages (from gspread) (1.2.1)\n",
            "Requirement already satisfied: numpy>=1.23.2 in /usr/local/lib/python3.11/dist-packages (from pandas) (2.0.2)\n",
            "Requirement already satisfied: python-dateutil>=2.8.2 in /usr/local/lib/python3.11/dist-packages (from pandas) (2.8.2)\n",
            "Requirement already satisfied: pytz>=2020.1 in /usr/local/lib/python3.11/dist-packages (from pandas) (2025.2)\n",
            "Requirement already satisfied: tzdata>=2022.7 in /usr/local/lib/python3.11/dist-packages (from pandas) (2025.2)\n",
            "Requirement already satisfied: et-xmlfile in /usr/local/lib/python3.11/dist-packages (from openpyxl) (2.0.0)\n",
            "Requirement already satisfied: beautifulsoup4 in /usr/local/lib/python3.11/dist-packages (from gdown) (4.13.3)\n",
            "Requirement already satisfied: filelock in /usr/local/lib/python3.11/dist-packages (from gdown) (3.18.0)\n",
            "Requirement already satisfied: requests[socks] in /usr/local/lib/python3.11/dist-packages (from gdown) (2.32.3)\n",
            "Requirement already satisfied: tqdm in /usr/local/lib/python3.11/dist-packages (from gdown) (4.67.1)\n",
            "Requirement already satisfied: cachetools<6.0,>=2.0.0 in /usr/local/lib/python3.11/dist-packages (from google-auth>=1.12.0->gspread) (5.5.2)\n",
            "Requirement already satisfied: pyasn1-modules>=0.2.1 in /usr/local/lib/python3.11/dist-packages (from google-auth>=1.12.0->gspread) (0.4.2)\n",
            "Requirement already satisfied: rsa<5,>=3.1.4 in /usr/local/lib/python3.11/dist-packages (from google-auth>=1.12.0->gspread) (4.9)\n",
            "Requirement already satisfied: requests-oauthlib>=0.7.0 in /usr/local/lib/python3.11/dist-packages (from google-auth-oauthlib>=0.4.1->gspread) (2.0.0)\n",
            "Requirement already satisfied: six>=1.5 in /usr/local/lib/python3.11/dist-packages (from python-dateutil>=2.8.2->pandas) (1.17.0)\n",
            "Requirement already satisfied: soupsieve>1.2 in /usr/local/lib/python3.11/dist-packages (from beautifulsoup4->gdown) (2.6)\n",
            "Requirement already satisfied: typing-extensions>=4.0.0 in /usr/local/lib/python3.11/dist-packages (from beautifulsoup4->gdown) (4.13.1)\n",
            "Requirement already satisfied: charset-normalizer<4,>=2 in /usr/local/lib/python3.11/dist-packages (from requests[socks]->gdown) (3.4.1)\n",
            "Requirement already satisfied: idna<4,>=2.5 in /usr/local/lib/python3.11/dist-packages (from requests[socks]->gdown) (3.10)\n",
            "Requirement already satisfied: urllib3<3,>=1.21.1 in /usr/local/lib/python3.11/dist-packages (from requests[socks]->gdown) (2.3.0)\n",
            "Requirement already satisfied: certifi>=2017.4.17 in /usr/local/lib/python3.11/dist-packages (from requests[socks]->gdown) (2025.1.31)\n",
            "Requirement already satisfied: PySocks!=1.5.7,>=1.5.6 in /usr/local/lib/python3.11/dist-packages (from requests[socks]->gdown) (1.7.1)\n",
            "Requirement already satisfied: pyasn1<0.7.0,>=0.6.1 in /usr/local/lib/python3.11/dist-packages (from pyasn1-modules>=0.2.1->google-auth>=1.12.0->gspread) (0.6.1)\n",
            "Requirement already satisfied: oauthlib>=3.0.0 in /usr/local/lib/python3.11/dist-packages (from requests-oauthlib>=0.7.0->google-auth-oauthlib>=0.4.1->gspread) (3.2.2)\n"
          ]
        }
      ]
    },
    {
      "cell_type": "code",
      "source": [
        "import sys\n",
        "print(\"=== Información del entorno ===\")\n",
        "print(\"Python version:\", sys.version)\n",
        "print(\"Current directory:\", os.getcwd())\n",
        "print(\"Files in directory:\", os.listdir())\n",
        "print(\"=============================\")"
      ],
      "metadata": {
        "colab": {
          "base_uri": "https://localhost:8080/"
        },
        "id": "8-mBL21j1Nph",
        "outputId": "a09cff2c-c80a-4e81-8273-82bcf5d0f896"
      },
      "execution_count": 71,
      "outputs": [
        {
          "output_type": "stream",
          "name": "stdout",
          "text": [
            "=== Información del entorno ===\n",
            "Python version: 3.11.11 (main, Dec  4 2024, 08:55:07) [GCC 11.4.0]\n",
            "Current directory: /content\n",
            "Files in directory: ['.config', 'drive', 'service_account.json', 'sample_data']\n",
            "=============================\n"
          ]
        }
      ]
    },
    {
      "cell_type": "code",
      "source": [
        "# %% tags=[\"colab-only\"]\n",
        "!pip install algo  # Esto solo se ejecutará en Colab"
      ],
      "metadata": {
        "colab": {
          "base_uri": "https://localhost:8080/"
        },
        "id": "vsSEx0R41PlI",
        "outputId": "3826879d-e87c-4f4a-ceca-6e29ddf16655"
      },
      "execution_count": 72,
      "outputs": [
        {
          "output_type": "stream",
          "name": "stdout",
          "text": [
            "Requirement already satisfied: algo in /usr/local/lib/python3.11/dist-packages (1.3.1)\n"
          ]
        }
      ]
    },
    {
      "cell_type": "code",
      "source": [
        "try:\n",
        "    from google.colab import auth  # Solo para Colab\n",
        "    IN_COLAB = True\n",
        "except ImportError:\n",
        "    IN_COLAB = False\n",
        "\n",
        "import gspread\n",
        "from google.oauth2.service_account import Credentials\n",
        "import os\n",
        "import json\n",
        "\n",
        "def get_gspread_client():\n",
        "    scope = ['https://www.googleapis.com/auth/spreadsheets',\n",
        "             'https://www.googleapis.com/auth/drive']\n",
        "\n",
        "    # 1. Intenta con Service Account (para GitHub Actions)\n",
        "    if 'GOOGLE_SHEETS_CREDS' in os.environ:\n",
        "        try:\n",
        "            creds_json = os.environ['GOOGLE_SHEETS_CREDS']\n",
        "            return gspread.authorize(\n",
        "                Credentials.from_service_account_info(json.loads(creds_json), scopes=scope)\n",
        "            )\n",
        "        except Exception as e:\n",
        "            print(f\"Error con credenciales de entorno: {str(e)}\")\n",
        "\n",
        "    # 2. Intenta con archivo local (para desarrollo)\n",
        "    try:\n",
        "        if os.path.exists('service_account.json'):\n",
        "            return gspread.authorize(\n",
        "                Credentials.from_service_account_file('service_account.json', scopes=scope)\n",
        "            )\n",
        "    except Exception as e:\n",
        "        print(f\"Error con archivo de credenciales: {str(e)}\")\n",
        "\n",
        "    # 3. Fallback a autenticación de Colab\n",
        "    if IN_COLAB:\n",
        "        try:\n",
        "            auth.authenticate_user()\n",
        "            creds, _ = default()\n",
        "            return gspread.authorize(creds)\n",
        "        except Exception as e:\n",
        "            print(f\"Error en autenticación de Colab: {str(e)}\")\n",
        "\n",
        "    raise RuntimeError(\"No se pudo autenticar con Google Sheets\")\n",
        "\n",
        "# Inicialización del cliente\n",
        "gc = get_gspread_client()"
      ],
      "metadata": {
        "id": "BjSD9xNX-tKI"
      },
      "execution_count": 73,
      "outputs": []
    },
    {
      "cell_type": "code",
      "source": [
        "try:\n",
        "    test_sheet = gc.open_by_key(\"12ULrg_sUNmXDgMy8ydQkRoAbrJ1V1ckEL4sw-H7EfvM\").sheet1\n",
        "    print(\"✅ ¡Autenticación exitosa! Conexión verificada con Google Sheets.\")\n",
        "except Exception as e:\n",
        "    print(f\"❌ Error al conectar: {str(e)}\")"
      ],
      "metadata": {
        "colab": {
          "base_uri": "https://localhost:8080/"
        },
        "id": "-ovNJ2IpueYL",
        "outputId": "74409aed-9a4c-41a3-934b-6e954bd87baa"
      },
      "execution_count": 74,
      "outputs": [
        {
          "output_type": "stream",
          "name": "stdout",
          "text": [
            "✅ ¡Autenticación exitosa! Conexión verificada con Google Sheets.\n"
          ]
        }
      ]
    },
    {
      "cell_type": "code",
      "source": [
        "import os\n",
        "import json\n",
        "from google.oauth2.service_account import Credentials\n",
        "\n",
        "SERVICE_ACCOUNT_FILE = 'service_account.json'\n",
        "scope = ['https://www.googleapis.com/auth/spreadsheets']\n",
        "\n",
        "if os.path.exists(SERVICE_ACCOUNT_FILE):\n",
        "    creds = Credentials.from_service_account_file(SERVICE_ACCOUNT_FILE, scopes=scope)\n",
        "    gc = gspread.authorize(creds)\n",
        "else:\n",
        "    raise Exception(\"No se encontró el archivo de credenciales\")"
      ],
      "metadata": {
        "id": "nXmuoTO7vXoa"
      },
      "execution_count": 75,
      "outputs": []
    },
    {
      "cell_type": "code",
      "source": [
        "CONFIG = {\n",
        "    \"MEDICAMENTOS HOSPITALARIA\": {\n",
        "        \"rango_origen\": \"A1:BV631\",\n",
        "        \"columnas_seleccionadas\": [0, 1, 2, 3, 4, 5, 6, 71],\n",
        "        \"columnas_origen\": [\"147\", \"CLAVE\", \"DESCRIPCION\", \"CADUCIDAD\", \"SEMAFORO\", \"UNIDAD\",\n",
        "                            \"SALDO INICIAL MARZO 2025\", \"SALDO FINAL MARZO 2025\"],\n",
        "        \"rango_destino\": \"A1:H631\"\n",
        "    },\n",
        "    \"MATERIAL DE CURACION HOSPITALAR\": {\n",
        "        \"rango_origen\": \"A1:BV589\",\n",
        "        \"columnas_seleccionadas\": [0, 1, 2, 3, 4, 5, 6, 71],\n",
        "        \"columnas_origen\": [\"NO.\", \"CLAVE\", \"DESCRIPCION\", \"CADUCIDAD\", \"SEMAFORO\", \"UNIDAD\",\n",
        "                            \"SALDO INICIAL MARZO 2025\", \"SALDO FINAL MARZO 2025\"],\n",
        "        \"rango_destino\": \"K1:R589\"\n",
        "    },\n",
        "    \"REACTIVOS HOSPITALARIA\": {\n",
        "        \"rango_origen\": \"A2:BV70\",\n",
        "        \"columnas_seleccionadas\": [0, 1, 2, 3, 4, 5, 6, 71],\n",
        "        \"columnas_origen\": [\"NO.\", \"CLAVE\", \"DESCRIPCION\", \"CADUCIDAD\", \"SEMAFORO\",\n",
        "                            \"UNIDAD\", \"SALDO INICIAL MARZO 2025\", \"SALDO FINAL MARZO 2025\"],\n",
        "        \"rango_destino\": \"U1:AB70\"\n",
        "    },\n",
        "    \"MEDICAMENTOS GRATUITA\": {\n",
        "        \"rango_origen\": \"A1:BW383\",\n",
        "        \"columnas_seleccionadas\": [0, 1, 2, 3, 4, 5, 6, 7, 72],\n",
        "        \"columnas_origen\": [\"NO.\", \"CLAVE\", \"DESCRIPCION\", \"CADUCIDAD\", \"LOTE\", \"SEMAFORO\",\n",
        "                            \"UNIDAD\", \"SALDO INICIAL MARZO 2025\", \"SALDO FINAL MARZO 2025\"],\n",
        "        \"rango_destino\": \"AE1:AM383\"\n",
        "    },\n",
        "    \"MATERIAL DE CURACIÓN GRATUITA\": {\n",
        "        \"rango_origen\": \"A1:BW100\",\n",
        "        \"columnas_seleccionadas\": [0, 1, 2, 3, 4, 5, 6, 7, 72],\n",
        "        \"columnas_origen\": [\"NO.\", \"CLAVE\", \"DESCRIPCION\", \"CADUCIDAD\", \"LOTE\", \"SEMAFORO\",\n",
        "                            \"UNIDAD\", \"SALDO INICIAL MARZO 2025\", \"SALDO FINAL MARZO 2025\"],\n",
        "        \"rango_destino\": \"AO1:AW100\"\n",
        "    }\n",
        "}\n"
      ],
      "metadata": {
        "id": "Rfjvxkd0-vY3"
      },
      "execution_count": 76,
      "outputs": []
    },
    {
      "cell_type": "code",
      "source": [
        "def limpiar_dato(valor):\n",
        "    if pd.isna(valor) or valor == \"\":\n",
        "        return \"\"\n",
        "    if isinstance(valor, datetime):\n",
        "        return valor.strftime('%d/%m/%Y')\n",
        "    if isinstance(valor, (int, float)):\n",
        "        return str(int(valor))\n",
        "    return str(valor).strip()\n"
      ],
      "metadata": {
        "id": "OcsYgPe7-yTn"
      },
      "execution_count": 77,
      "outputs": []
    },
    {
      "cell_type": "code",
      "source": [
        "print(\"Cargando compendio de claves...\")\n",
        "compendio_url = \"https://docs.google.com/spreadsheets/d/12B9trRSZVzH3TI0cSrOx_87IG5ip2r1BhpJrXnci9YI/export?format=xlsx\"\n",
        "compendio_df = pd.read_excel(compendio_url, sheet_name=\"CNIS\", usecols=[0, 1])\n",
        "\n",
        "compendio_df.columns = [\"Clave\", \"Descripcion\"]\n",
        "compendio_df[\"Clave\"] = compendio_df[\"Clave\"].astype(str).str.strip()\n",
        "compendio_df[\"Descripcion\"] = compendio_df[\"Descripcion\"].astype(str).str.strip()\n",
        "\n",
        "diccionario_descripciones = dict(zip(compendio_df[\"Clave\"], compendio_df[\"Descripcion\"]))\n"
      ],
      "metadata": {
        "colab": {
          "base_uri": "https://localhost:8080/"
        },
        "id": "vfxIZ6PV-zzf",
        "outputId": "16409b90-14bc-46b9-eec0-4cb0f4775e62"
      },
      "execution_count": 78,
      "outputs": [
        {
          "output_type": "stream",
          "name": "stdout",
          "text": [
            "Cargando compendio de claves...\n"
          ]
        }
      ]
    },
    {
      "cell_type": "code",
      "source": [
        "def cargar_datos_seguro():\n",
        "    try:\n",
        "        print(\"Descarga desde el archivo original...\")\n",
        "        !gdown --id \"1t4yBRdnf2z4z33ijB9QgsG2vOYrMAYhh\" -O temp_inventario.xlsx -q 2>/dev/null\n",
        "\n",
        "        print(\"Conexión con la hoja de Búsqueda Rápida...\")\n",
        "        sheet = gc.open_by_key(\"12ULrg_sUNmXDgMy8ydQkRoAbrJ1V1ckEL4sw-H7EfvM\").worksheet(\"DATOSREAL\")\n",
        "\n",
        "        for hoja, config in CONFIG.items():\n",
        "            try:\n",
        "                print(f\"\\nProcesando {hoja}...\")\n",
        "\n",
        "                def get_nrows(rango):\n",
        "                    parts = rango.split(\":\")\n",
        "                    if len(parts) == 2:\n",
        "                        return int(''.join(filter(str.isdigit, parts[1])))\n",
        "                    return 631\n",
        "\n",
        "                df = pd.read_excel(\n",
        "                    \"temp_inventario.xlsx\",\n",
        "                    sheet_name=hoja,\n",
        "                    usecols=config[\"columnas_seleccionadas\"],\n",
        "                    nrows=get_nrows(config[\"rango_origen\"])\n",
        "                )\n",
        "                df.columns = config[\"columnas_origen\"]\n",
        "                df = df.applymap(limpiar_dato)\n",
        "                df = df.dropna(how='all')\n",
        "\n",
        "                # Reemplazo de descripción según clave\n",
        "                if \"CLAVE\" in df.columns and \"DESCRIPCION\" in df.columns:\n",
        "                    df[\"DESCRIPCION\"] = df.apply(\n",
        "                        lambda row: diccionario_descripciones.get(row[\"CLAVE\"], row[\"DESCRIPCION\"]),\n",
        "                        axis=1\n",
        "                    )\n",
        "\n",
        "                datos = df.values.tolist()\n",
        "                batch_size = 100\n",
        "\n",
        "                celda_inicial, _ = config[\"rango_destino\"].split(\":\")\n",
        "                fila_base, col_base = gspread.utils.a1_to_rowcol(celda_inicial)\n",
        "\n",
        "                for i in range(0, len(datos), batch_size):\n",
        "                    batch = datos[i:i + batch_size]\n",
        "                    fila_inicio = fila_base + i\n",
        "                    fila_fin = fila_inicio + len(batch) - 1\n",
        "                    col_inicio = col_base\n",
        "                    col_fin = col_inicio + len(batch[0]) - 1 if batch else col_base\n",
        "\n",
        "                    rango = f\"{gspread.utils.rowcol_to_a1(fila_inicio, col_inicio)}:\" \\\n",
        "                            f\"{gspread.utils.rowcol_to_a1(fila_fin, col_fin)}\"\n",
        "                    print(f\"   Actualizando {rango}...\")\n",
        "\n",
        "                    sheet.update(\n",
        "                        values=batch,\n",
        "                        range_name=rango\n",
        "                    )\n",
        "\n",
        "                print(f\"{hoja} cargado correctamente - {len(datos)} filas\")\n",
        "\n",
        "            except Exception as e:\n",
        "                print(f\"Error en {hoja}: {str(e)}\")\n",
        "                continue\n",
        "\n",
        "    except Exception as e:\n",
        "        print(f\"Error crítico: {str(e)}\")\n",
        "    finally:\n",
        "        print(\"\\nLimpieza del archivo temporal...\")\n",
        "        !rm -f temp_inventario.xlsx\n"
      ],
      "metadata": {
        "id": "RIZUZqYO-2EH"
      },
      "execution_count": 79,
      "outputs": []
    },
    {
      "cell_type": "code",
      "source": [
        "def ejecutar_carga():\n",
        "    print(\"🔥 Webhook activado - Iniciando actualización...\")\n",
        "    print(\"\\n\" + \"=\"*60)\n",
        "    print(f\"INICIO DE CARGA - {datetime.now().strftime('%d/%m/%Y %H:%M:%S')}\")\n",
        "    inicio = time.time()\n",
        "\n",
        "    cargar_datos_seguro()\n",
        "\n",
        "    print(f\"\\nCARGA COMPLETADA EN {time.time() - inicio:.2f} segundos\")\n",
        "    print(\"=\"*60 + \"\\n\")\n",
        "\n",
        "# Ejecutar de inmediato\n",
        "ejecutar_carga()\n",
        "\n",
        "# Programar para cada 24 horas\n",
        "schedule.every(24).hours.do(ejecutar_carga)\n"
      ],
      "metadata": {
        "colab": {
          "base_uri": "https://localhost:8080/"
        },
        "id": "5caa6e__-4X_",
        "outputId": "4dafc2c4-5f61-4e65-8a43-eb4320f6c7e2"
      },
      "execution_count": 80,
      "outputs": [
        {
          "output_type": "stream",
          "name": "stdout",
          "text": [
            "🔥 Webhook activado - Iniciando actualización...\n",
            "\n",
            "============================================================\n",
            "INICIO DE CARGA - 08/04/2025 23:57:18\n",
            "Descarga desde el archivo original...\n",
            "Conexión con la hoja de Búsqueda Rápida...\n",
            "\n",
            "Procesando MEDICAMENTOS HOSPITALARIA...\n"
          ]
        },
        {
          "output_type": "stream",
          "name": "stderr",
          "text": [
            "<ipython-input-79-10ddf5f49836>:26: FutureWarning: DataFrame.applymap has been deprecated. Use DataFrame.map instead.\n",
            "  df = df.applymap(limpiar_dato)\n"
          ]
        },
        {
          "output_type": "stream",
          "name": "stdout",
          "text": [
            "   Actualizando A1:H100...\n",
            "   Actualizando A101:H200...\n",
            "   Actualizando A201:H300...\n",
            "   Actualizando A301:H400...\n",
            "   Actualizando A401:H500...\n",
            "   Actualizando A501:H600...\n",
            "   Actualizando A601:H631...\n",
            "MEDICAMENTOS HOSPITALARIA cargado correctamente - 631 filas\n",
            "\n",
            "Procesando MATERIAL DE CURACION HOSPITALAR...\n"
          ]
        },
        {
          "output_type": "stream",
          "name": "stderr",
          "text": [
            "<ipython-input-79-10ddf5f49836>:26: FutureWarning: DataFrame.applymap has been deprecated. Use DataFrame.map instead.\n",
            "  df = df.applymap(limpiar_dato)\n"
          ]
        },
        {
          "output_type": "stream",
          "name": "stdout",
          "text": [
            "   Actualizando K1:R100...\n",
            "   Actualizando K101:R200...\n",
            "   Actualizando K201:R300...\n",
            "   Actualizando K301:R400...\n",
            "   Actualizando K401:R500...\n",
            "   Actualizando K501:R589...\n",
            "MATERIAL DE CURACION HOSPITALAR cargado correctamente - 589 filas\n",
            "\n",
            "Procesando REACTIVOS HOSPITALARIA...\n"
          ]
        },
        {
          "output_type": "stream",
          "name": "stderr",
          "text": [
            "<ipython-input-79-10ddf5f49836>:26: FutureWarning: DataFrame.applymap has been deprecated. Use DataFrame.map instead.\n",
            "  df = df.applymap(limpiar_dato)\n"
          ]
        },
        {
          "output_type": "stream",
          "name": "stdout",
          "text": [
            "   Actualizando U1:AB59...\n",
            "REACTIVOS HOSPITALARIA cargado correctamente - 59 filas\n",
            "\n",
            "Procesando MEDICAMENTOS GRATUITA...\n"
          ]
        },
        {
          "output_type": "stream",
          "name": "stderr",
          "text": [
            "<ipython-input-79-10ddf5f49836>:26: FutureWarning: DataFrame.applymap has been deprecated. Use DataFrame.map instead.\n",
            "  df = df.applymap(limpiar_dato)\n"
          ]
        },
        {
          "output_type": "stream",
          "name": "stdout",
          "text": [
            "   Actualizando AE1:AM100...\n",
            "   Actualizando AE101:AM200...\n",
            "   Actualizando AE201:AM300...\n",
            "   Actualizando AE301:AM369...\n",
            "MEDICAMENTOS GRATUITA cargado correctamente - 369 filas\n",
            "\n",
            "Procesando MATERIAL DE CURACIÓN GRATUITA...\n"
          ]
        },
        {
          "output_type": "stream",
          "name": "stderr",
          "text": [
            "<ipython-input-79-10ddf5f49836>:26: FutureWarning: DataFrame.applymap has been deprecated. Use DataFrame.map instead.\n",
            "  df = df.applymap(limpiar_dato)\n"
          ]
        },
        {
          "output_type": "stream",
          "name": "stdout",
          "text": [
            "   Actualizando AO1:AW92...\n",
            "MATERIAL DE CURACIÓN GRATUITA cargado correctamente - 92 filas\n",
            "\n",
            "Limpieza del archivo temporal...\n",
            "\n",
            "CARGA COMPLETADA EN 15.70 segundos\n",
            "============================================================\n",
            "\n"
          ]
        },
        {
          "output_type": "execute_result",
          "data": {
            "text/plain": [
              "Every 24 hours do ejecutar_carga() (last run: [never], next run: 2025-04-09 23:57:33)"
            ]
          },
          "metadata": {},
          "execution_count": 80
        }
      ]
    }
  ],
  "metadata": {
    "colab": {
      "provenance": [],
      "authorship_tag": "ABX9TyNc78hM7FTjEdvMU5M409Jr",
      "include_colab_link": true
    },
    "kernelspec": {
      "display_name": "Python 3",
      "name": "python3"
    },
    "language_info": {
      "name": "python"
    }
  },
  "nbformat": 4,
  "nbformat_minor": 0
}